{
  "nbformat": 4,
  "nbformat_minor": 0,
  "metadata": {
    "colab": {
      "name": "Untitled17.ipynb",
      "provenance": []
    },
    "kernelspec": {
      "name": "python3",
      "display_name": "Python 3"
    }
  },
  "cells": [
    {
      "cell_type": "code",
      "metadata": {
        "id": "3QwxYe1uXNts",
        "colab_type": "code",
        "colab": {}
      },
      "source": [
        "'''\n",
        "{\n",
        "  \"numero_casas\": 5,\n",
        "  \"token\": \"https://www.codenation.dev/\", Retirei o meu token por questão de segurança.\n",
        "  \"cifrado\": \"bmjs ns itzgy, qjfaj ny tzy. otxmzf gqthm\",\n",
        "  \"decifrado\": \"\",\n",
        "  \"resumo_criptografico\": \"\"\n",
        "}\n",
        "'''\n",
        "#Importando as bibliotecas.\n",
        "import json\n",
        "import requests\n",
        "import hashlib\n",
        "\n",
        "#Criação de variáveis.\n",
        "alfabeto = 'abcdefghijklmnopqrstuvwxyz'\n",
        "casa = 5\n",
        "\n",
        "#Armazenando uma requisição com metódo get.\n",
        "resp = requests.get('https://api.codenation.dev/v1/challenge/dev-ps/generate-data?token=765809a7645fd4f54c849d2aaf6ea2bab19e1d58')\n",
        "\n",
        "#Criando dicionário para armazenar a resposta da requisição.\n",
        "conteudo = json.loads(resp.content)\n",
        "\n",
        "#Retornando apenas a mensagem cifrada.\n",
        "mensagem = (conteudo[\"cifrado\"])\n",
        "\n",
        "#Função para descriptografar.\n",
        "def descriptar(mensagem):\n",
        "  result = ''\n",
        "  for letra in mensagem:\n",
        "    if letra in alfabeto:\n",
        "      letra_index = alfabeto.index(letra)\n",
        "      result += alfabeto[(letra_index - casa) % len(alfabeto)]\n",
        "    else:\n",
        "      result += letra\n",
        "  return result\n"
      ],
      "execution_count": 0,
      "outputs": []
    },
    {
      "cell_type": "code",
      "metadata": {
        "id": "z9lF2Cyii6RQ",
        "colab_type": "code",
        "colab": {}
      },
      "source": [
        "#Atualizando o campo \"decifrado\" com a mensagem descriptografada da função.\n",
        "conteudo[\"decifrado\"] = descriptar(mensagem)"
      ],
      "execution_count": 0,
      "outputs": []
    },
    {
      "cell_type": "code",
      "metadata": {
        "id": "ToeVbE3VyhJa",
        "colab_type": "code",
        "colab": {}
      },
      "source": [
        "#Utilizando o construtor sha1 da hashlib\n",
        "hashValue = hashlib.sha1()\n",
        "\n",
        "#Utilizando o método update.\n",
        "hashValue.update(conteudo[\"decifrado\"].encode('utf-8'))\n",
        "\n",
        "#Recebendo o resultao no campo \"resumo_criptografico\"\n",
        "conteudo[\"resumo_criptografico\"] = m.hexdigest()\n",
        "\n",
        "#Criando um arquivo com o nome \"answer.json\" no google drive.\n",
        "with open('/content/drive/My Drive/datasets/answer.json', 'w') as json_file:\n",
        "  json.dump(conteudo, json_file, indent=4)\n"
      ],
      "execution_count": 0,
      "outputs": []
    }
  ]
}